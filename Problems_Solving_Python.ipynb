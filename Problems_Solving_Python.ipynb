{
 "cells": [
  {
   "cell_type": "markdown",
   "id": "3c0316dc",
   "metadata": {},
   "source": [
    "# Problems Solving Python"
   ]
  },
  {
   "cell_type": "markdown",
   "id": "c6e7678d",
   "metadata": {},
   "source": [
    "### Problem 1: Plus Minus\n",
    "Given an array of integers, calculate the ratios of its elements that are positive, negative, and zero. Print the decimal value of each fraction on a new line with 6 places after the decimal."
   ]
  },
  {
   "cell_type": "code",
   "execution_count": 2,
   "id": "1703f95b",
   "metadata": {},
   "outputs": [
    {
     "name": "stdout",
     "output_type": "stream",
     "text": [
      "6\n",
      "2 6 8 9 4 0\n",
      "0.8333333333333334\n",
      "0.0\n",
      "0.16666666666666666\n"
     ]
    }
   ],
   "source": [
    "import math\n",
    "import os\n",
    "import random\n",
    "import re\n",
    "import sys\n",
    "\n",
    "def plusMinus(arr):\n",
    "    positive = negative = zeros = 0\n",
    "    for n in arr:\n",
    "        if n == 0:\n",
    "            zeros +=1\n",
    "        elif n > 0:\n",
    "            positive += 1\n",
    "        else:\n",
    "            negative += 1\n",
    "    print(positive/len(arr))\n",
    "    print(negative/len(arr))\n",
    "    print(zeros/len(arr))\n",
    "\n",
    "if __name__ == '__main__':\n",
    "    n = int(input().strip())\n",
    "\n",
    "    arr = list(map(int, input().rstrip().split()))\n",
    "\n",
    "    plusMinus(arr)"
   ]
  },
  {
   "cell_type": "markdown",
   "id": "a4eee2a3",
   "metadata": {},
   "source": [
    "### Problem 2: Mini-Max Sum\n",
    "Given five positive integers, find the minimum and maximum values that can be calculated by summing exactly four of the five integers. Then print the respective minimum and maximum values as a single line of two space-separated long integers."
   ]
  },
  {
   "cell_type": "code",
   "execution_count": 4,
   "id": "c1bc1661",
   "metadata": {},
   "outputs": [
    {
     "name": "stdout",
     "output_type": "stream",
     "text": [
      "1 2 3 4 5\n",
      "10 14\n"
     ]
    }
   ],
   "source": [
    "import math\n",
    "import os\n",
    "import random\n",
    "import re\n",
    "import sys\n",
    "\n",
    "def miniMaxSum(arr):\n",
    "    somas = []\n",
    "    for n in arr:\n",
    "        somas.append(sum(arr)-n)\n",
    "    print(str(min(somas))+\" \"+str(max(somas)))\n",
    "\n",
    "if __name__ == '__main__':\n",
    "    arr = list(map(int, input().rstrip().split()))\n",
    "    miniMaxSum(arr)\n"
   ]
  },
  {
   "cell_type": "markdown",
   "id": "1b2ceba1",
   "metadata": {},
   "source": [
    "### Problem 3: Time Conversion\n",
    "Given a time in 12-hour AM/PM format, convert it to military (24-hour) time.\n",
    "\n",
    "Note: - 12:00:00AM on a 12-hour clock is 00:00:00 on a 24-hour clock.\n",
    "- 12:00:00PM on a 12-hour clock is 12:00:00 on a 24-hour clock."
   ]
  },
  {
   "cell_type": "code",
   "execution_count": 6,
   "id": "29207a08",
   "metadata": {},
   "outputs": [
    {
     "name": "stdout",
     "output_type": "stream",
     "text": [
      "03:00:00PM\n",
      "15:00:00\n"
     ]
    }
   ],
   "source": [
    "import math\n",
    "import os\n",
    "import random\n",
    "import re\n",
    "import sys\n",
    "\n",
    "def timeConversion(s):\n",
    "    if \"PM\" in s:\n",
    "        if s[:2] == \"12\":\n",
    "            print(s[:-2])\n",
    "        else:\n",
    "            print(str(int(s[:2])+12)+s[2:-2])\n",
    "    else:\n",
    "        if s[:2] == \"12\":\n",
    "            print(\"0\"+str(int(s[:2])-12)+s[2:-2])\n",
    "        else:\n",
    "            print(s[:-2])\n",
    "\n",
    "if __name__ == '__main__':\n",
    "    s = input()\n",
    "\n",
    "    result = timeConversion(s)\n"
   ]
  },
  {
   "cell_type": "markdown",
   "id": "b916adc9",
   "metadata": {},
   "source": [
    "### Problem 4: Lonely Integer\n",
    "Given an array of integers, where all elements but one occur twice, find the unique element."
   ]
  },
  {
   "cell_type": "code",
   "execution_count": 9,
   "id": "6788906b",
   "metadata": {},
   "outputs": [
    {
     "name": "stdout",
     "output_type": "stream",
     "text": [
      "5\n",
      "1 2 3 4 5\n",
      "5\n"
     ]
    }
   ],
   "source": [
    "import math\n",
    "import os\n",
    "import random\n",
    "import re\n",
    "import sys\n",
    "\n",
    "def lonelyinteger(a):\n",
    "    for e in a:\n",
    "        if a.count(e) == 1:\n",
    "            result = e\n",
    "    return result\n",
    "\n",
    "if __name__ == '__main__':\n",
    "    n = int(input().strip())\n",
    "\n",
    "    a = list(map(int, input().rstrip().split()))\n",
    "\n",
    "    result = lonelyinteger(a)\n",
    "    \n",
    "    print(result)"
   ]
  },
  {
   "cell_type": "markdown",
   "id": "a37ac778",
   "metadata": {},
   "source": [
    "### Problem 5: Diagonal Difference\n",
    "Given a square matrix, calculate the absolute difference between the sums of its diagonals."
   ]
  },
  {
   "cell_type": "code",
   "execution_count": 11,
   "id": "6dff40c5",
   "metadata": {},
   "outputs": [
    {
     "name": "stdout",
     "output_type": "stream",
     "text": [
      "3\n",
      "1 2 3\n",
      "4 5 6\n",
      "7 8 9\n",
      "0\n"
     ]
    }
   ],
   "source": [
    "import math\n",
    "import os\n",
    "import random\n",
    "import re\n",
    "import sys\n",
    "\n",
    "def diagonalDifference(arr):\n",
    "    j = len(arr) - 1\n",
    "    i = 0\n",
    "    pd = []\n",
    "    sd = []\n",
    "    for num in arr:\n",
    "        pd.append(num[i])\n",
    "        sd.append(num[j])\n",
    "        j -= 1\n",
    "        i += 1\n",
    "    return abs(sum(pd)-sum(sd))\n",
    "\n",
    "if __name__ == '__main__':\n",
    "    n = int(input().strip())\n",
    "    arr = []\n",
    "    for _ in range(n):\n",
    "        arr.append(list(map(int, input().rstrip().split())))\n",
    "        \n",
    "    result = diagonalDifference(arr)\n",
    "    print(result)"
   ]
  },
  {
   "cell_type": "markdown",
   "id": "edb5a053",
   "metadata": {},
   "source": [
    "### Problem 6: Counting Sort 1\n",
    "Quicksort usually has a running time of n x log(n), but is there an algorithm that can sort even faster? In general, this is not possible. Most sorting algorithms are comparison sorts, i.e. they sort a list just by comparing the elements to one another. A comparison sort algorithm cannot beat n x log(n) (worst-case) running time, since n x log(n) represents the minimum number of comparisons needed to know where to place each element."
   ]
  },
  {
   "cell_type": "code",
   "execution_count": 14,
   "id": "7162e6df",
   "metadata": {},
   "outputs": [
    {
     "name": "stdout",
     "output_type": "stream",
     "text": [
      "5\n",
      "1 2 3 4 5\n",
      "[0, 1, 1, 1, 1, 1, 0, 0, 0, 0, 0, 0, 0, 0, 0, 0, 0, 0, 0, 0, 0, 0, 0, 0, 0, 0, 0, 0, 0, 0, 0, 0, 0, 0, 0, 0, 0, 0, 0, 0, 0, 0, 0, 0, 0, 0, 0, 0, 0, 0, 0, 0, 0, 0, 0, 0, 0, 0, 0, 0, 0, 0, 0, 0, 0, 0, 0, 0, 0, 0, 0, 0, 0, 0, 0, 0, 0, 0, 0, 0, 0, 0, 0, 0, 0, 0, 0, 0, 0, 0, 0, 0, 0, 0, 0, 0, 0, 0, 0, 0]\n"
     ]
    }
   ],
   "source": [
    "import math\n",
    "import os\n",
    "import random\n",
    "import re\n",
    "import sys\n",
    "\n",
    "def countingSort(arr):\n",
    "    freq = [0] * 100\n",
    "    for num in arr:\n",
    "        freq[num] += 1\n",
    "    return freq\n",
    "\n",
    "if __name__ == '__main__':\n",
    "    n = int(input().strip())\n",
    "    arr = list(map(int, input().rstrip().split()))\n",
    "\n",
    "    result = countingSort(arr)\n",
    "    print(result)\n"
   ]
  },
  {
   "cell_type": "markdown",
   "id": "a156db45",
   "metadata": {},
   "source": [
    "### Problem 7: Zig Zag Sequence\n",
    "In this challenge, the task is to debug the existing code to successfully execute all provided test files."
   ]
  },
  {
   "cell_type": "code",
   "execution_count": 49,
   "id": "a62e808e",
   "metadata": {},
   "outputs": [
    {
     "name": "stdout",
     "output_type": "stream",
     "text": [
      "1\n",
      "7\n",
      "1 2 3 4 5 6 7\n",
      "1 2 3 7 6 5 4\n"
     ]
    }
   ],
   "source": [
    "def findZigZagSequence(a, n):\n",
    "    a.sort()\n",
    "    mid = int((n + 1)/2)\n",
    "    a[mid-1], a[n-1] = a[n-1], a[mid-1]\n",
    "\n",
    "    st = mid\n",
    "    ed = n - 2\n",
    "\n",
    "    while(st <= ed):\n",
    "        a[st], a[ed] = a[ed], a[st]\n",
    "        st = st + 1\n",
    "        ed = ed - 1\n",
    "\n",
    "    for i in range (n):\n",
    "        if i == n-1:\n",
    "            print(a[i])\n",
    "        else:\n",
    "            print(a[i], end = ' ')\n",
    "\n",
    "test_cases = int(input())\n",
    "\n",
    "for cs in range (test_cases):\n",
    "    n = int(input())\n",
    "    a = list(map(int, input().split()))\n",
    "    findZigZagSequence(a, n)"
   ]
  },
  {
   "cell_type": "markdown",
   "id": "f7e01c97",
   "metadata": {},
   "source": [
    "### Problem 8: Caesar Cipher\n",
    "Julius Caesar protected his confidential information by encrypting it using a cipher. Caesar's cipher shifts each letter by a number of letters. If the shift takes you past the end of the alphabet, just rotate back to the front of the alphabet. In the case of a rotation by 3, w, x, y and z would map to z, a, b and c."
   ]
  },
  {
   "cell_type": "code",
   "execution_count": 15,
   "id": "30ff4dcb",
   "metadata": {},
   "outputs": [
    {
     "name": "stdout",
     "output_type": "stream",
     "text": [
      "11\n",
      "middle-Outz\n",
      "2\n",
      "okffng-Qwvb\n"
     ]
    }
   ],
   "source": [
    "import math\n",
    "import os\n",
    "import random\n",
    "import re\n",
    "import sys\n",
    "\n",
    "def caesarCipher(string, k):\n",
    "    alfabeto_id = {\n",
    "        'a': 0, 'b': 1, 'c': 2, 'd': 3, 'e': 4, 'f': 5, 'g': 6, 'h': 7, 'i': 8, 'j': 9, 'k': 10, 'l': 11, 'm': 12, 'n': 13, 'o': 14, 'p': 15, 'q': 16, 'r': 17, 's': 18, 't': 19, 'u': 20, 'v': 21, 'w': 22, 'x': 23, 'y': 24, 'z': 25}\n",
    "    alfabeto = ['a', 'b', 'c', 'd', 'e', 'f', 'g', 'h', 'i', 'j', 'k', 'l', 'm', 'n', 'o', 'p', 'q', 'r', 's', 't', 'u', 'v', 'w', 'x', 'y', 'z']\n",
    "    encode = []\n",
    "    \n",
    "    for s in string:\n",
    "        is_upper = False\n",
    "        if s.isupper():\n",
    "            s = s.lower()\n",
    "            is_upper = True\n",
    "        if s in alfabeto:\n",
    "            i = alfabeto_id[s] + k\n",
    "            while(i > 25):\n",
    "                i = i - 26\n",
    "            if is_upper == True:\n",
    "                encode.append(alfabeto[i].upper())\n",
    "            else:\n",
    "                encode.append(alfabeto[i])\n",
    "        else:\n",
    "            encode.append(s)\n",
    "    return \"\".join(encode)\n",
    "    \n",
    "if __name__ == '__main__':\n",
    "    n = int(input().strip())\n",
    "    s = input()\n",
    "    k = int(input().strip())\n",
    "\n",
    "    result = caesarCipher(s, k)\n",
    "    print(result)"
   ]
  },
  {
   "cell_type": "markdown",
   "id": "3b8303a7",
   "metadata": {},
   "source": [
    "### Problem 9: Anagram"
   ]
  },
  {
   "cell_type": "code",
   "execution_count": 50,
   "id": "b0ee48f8",
   "metadata": {},
   "outputs": [
    {
     "data": {
      "text/plain": [
       "True"
      ]
     },
     "execution_count": 50,
     "metadata": {},
     "output_type": "execute_result"
    }
   ],
   "source": [
    "def is_anagram(s1, s2):\n",
    "    cond = False\n",
    "    s1 = sorted(str(s1).replace(' ','').lower())\n",
    "    s2 = sorted(str(s2).replace(' ','').lower())\n",
    "    \n",
    "    if s1 == s2:\n",
    "        cond = True\n",
    "        \n",
    "    return cond\n",
    "\n",
    "s1 = \"teSte 1\"\n",
    "s2 = \"teste1\"\n",
    "is_anagram(s1, s2)"
   ]
  },
  {
   "cell_type": "markdown",
   "id": "e0edfcad",
   "metadata": {},
   "source": [
    "### Problem 10: Palidrom"
   ]
  },
  {
   "cell_type": "code",
   "execution_count": 51,
   "id": "8cb5c6ca",
   "metadata": {},
   "outputs": [
    {
     "data": {
      "text/plain": [
       "True"
      ]
     },
     "execution_count": 51,
     "metadata": {},
     "output_type": "execute_result"
    }
   ],
   "source": [
    "def is_palidrom(s1):\n",
    "    cond = False\n",
    "    s1 = str(s1).lower()\n",
    "    reverse = s1[::-1]\n",
    "    \n",
    "    if s1 == reverse:\n",
    "        cond = True\n",
    "    \n",
    "    return cond\n",
    "\n",
    "s1 = \"kaiak\"\n",
    "is_palidrom(s1)"
   ]
  },
  {
   "cell_type": "code",
   "execution_count": null,
   "id": "5bce2819",
   "metadata": {},
   "outputs": [],
   "source": []
  }
 ],
 "metadata": {
  "kernelspec": {
   "display_name": "Python 3 (ipykernel)",
   "language": "python",
   "name": "python3"
  },
  "language_info": {
   "codemirror_mode": {
    "name": "ipython",
    "version": 3
   },
   "file_extension": ".py",
   "mimetype": "text/x-python",
   "name": "python",
   "nbconvert_exporter": "python",
   "pygments_lexer": "ipython3",
   "version": "3.10.9"
  }
 },
 "nbformat": 4,
 "nbformat_minor": 5
}
